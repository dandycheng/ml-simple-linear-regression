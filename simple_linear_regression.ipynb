{
  "nbformat": 4,
  "nbformat_minor": 0,
  "metadata": {
    "kernelspec": {
      "display_name": "Python 3",
      "language": "python",
      "name": "python3"
    },
    "language_info": {
      "codemirror_mode": {
        "name": "ipython",
        "version": 3
      },
      "file_extension": ".py",
      "mimetype": "text/x-python",
      "name": "python",
      "nbconvert_exporter": "python",
      "pygments_lexer": "ipython3",
      "version": "3.7.3"
    },
    "colab": {
      "name": "simple-linear-regression.ipynb",
      "provenance": []
    }
  },
  "cells": [
    {
      "cell_type": "markdown",
      "metadata": {
        "id": "7rWTBEwRZAIz",
        "colab_type": "text"
      },
      "source": [
        "# Linear Regression Practice"
      ]
    },
    {
      "cell_type": "code",
      "metadata": {
        "id": "rnHssPYuZAI3",
        "colab_type": "code",
        "colab": {}
      },
      "source": [
        "import os\n",
        "import re\n",
        "import pandas as pd\n",
        "import numpy as np\n",
        "import matplotlib.pyplot as plt"
      ],
      "execution_count": 0,
      "outputs": []
    },
    {
      "cell_type": "code",
      "metadata": {
        "id": "s10YX2gwZvk-",
        "colab_type": "code",
        "colab": {}
      },
      "source": [
        "# Import PyDrive and associated libraries.\n",
        "# This only needs to be done once per notebook.\n",
        "from pydrive.auth import GoogleAuth\n",
        "from pydrive.drive import GoogleDrive\n",
        "from google.colab import auth\n",
        "from oauth2client.client import GoogleCredentials\n",
        "\n",
        "# Authenticate and create the PyDrive client.\n",
        "# This only needs to be done once per notebook.\n",
        "auth.authenticate_user()\n",
        "gauth = GoogleAuth()\n",
        "gauth.credentials = GoogleCredentials.get_application_default()\n",
        "drive = GoogleDrive(gauth)\n",
        "\n",
        "# Download a file based on its file ID.\n",
        "#\n",
        "# A file ID looks like: laggVyWshwcyP6kEI-y_W3P8D26sz\n",
        "file_id = '15nV1jtdkFYedKND8816dTMqSOXYs3tw7'\n",
        "downloaded = drive.CreateFile({'id': file_id})\n",
        "sat = []\n",
        "gpa = []\n",
        "for str in downloaded.GetContentString().split('\\n'):\n",
        "  if(len(str) > 0):\n",
        "    coords = str.split(',')\n",
        "    try:\n",
        "      sat.append(float(coords[0]))\n",
        "      gpa.append(float(coords[1]))\n",
        "    except:\n",
        "      continue"
      ],
      "execution_count": 0,
      "outputs": []
    },
    {
      "cell_type": "code",
      "metadata": {
        "colab_type": "code",
        "id": "vKq-pINlZMtr",
        "colab": {}
      },
      "source": [
        "sat = np.array(sat)\n",
        "gpa = np.array(gpa)\n",
        "theta_0 = 2\n",
        "theta_1 = 4\n",
        "alpha = 3e-8\n",
        "m = len(gpa)"
      ],
      "execution_count": 0,
      "outputs": []
    },
    {
      "cell_type": "code",
      "metadata": {
        "id": "22xA6OP2ZAJG",
        "colab_type": "code",
        "colab": {
          "base_uri": "https://localhost:8080/",
          "height": 297
        },
        "outputId": "94028aee-9dc2-4299-936e-435315b002fd"
      },
      "source": [
        "plt.scatter(sat,gpa)\n",
        "plt.xlabel('SAT')\n",
        "plt.ylabel('GPA')"
      ],
      "execution_count": 4,
      "outputs": [
        {
          "output_type": "execute_result",
          "data": {
            "text/plain": [
              "Text(0, 0.5, 'GPA')"
            ]
          },
          "metadata": {
            "tags": []
          },
          "execution_count": 4
        },
        {
          "output_type": "display_data",
          "data": {
            "image/png": "[encoded data removed]",
            "text/plain": [
              "<Figure size 432x288 with 1 Axes>"
            ]
          },
          "metadata": {
            "tags": []
          }
        }
      ]
    },
    {
      "cell_type": "markdown",
      "metadata": {
        "id": "zE4oH_KmZAJL",
        "colab_type": "text"
      },
      "source": [
        "\\begin{gathered}\n",
        "\\text{Cost function equation:}\\newline\n",
        "J(\\theta) = \\frac{1}{2m}\\sum_{i=1}^m(h_\\theta(x_i) - y_i)^2,\n",
        "\\text{ where } (x_i,y_i) \\text{ represents a single training data}\\newline\\newline\n",
        "\\text{The equation above can be simplified to:}\\newline\\newline\n",
        "J(\\theta) = \\frac{1}{2m}z,\n",
        "\\text{ where } z = \\sum_{i=1}^m (\\theta_0+\\theta_1X-Y)^2 = [z_1,...,z_m]_{1xm}\\newline\n",
        "\\text{ and } X = [x_1,...,x_m], \\text{ }Y = [y_1,...,y_m]\n",
        "\\end{gathered}"
      ]
    },
    {
      "cell_type": "code",
      "metadata": {
        "id": "iMWMaarPZAJN",
        "colab_type": "code",
        "colab": {}
      },
      "source": [
        "def calculateCost(matrix_x,matrix_y,m):\n",
        "    global theta_0,theta_1\n",
        "    cost = (1 / (2 * m)) * ((theta_0 + (theta_1 * matrix_x) - matrix_y) ** 2).sum()\n",
        "    return cost"
      ],
      "execution_count": 0,
      "outputs": []
    },
    {
      "cell_type": "code",
      "metadata": {
        "id": "ZHqKuJ-jZAJS",
        "colab_type": "code",
        "colab": {}
      },
      "source": [
        "def gradDescent(alpha,matrix_x,matrix_y,iter = 10000,eps = 0.05):\n",
        "    global theta_0,theta_1,m,cost,sat,gpa\n",
        "    cost = calculateCost(sat,gpa,m)\n",
        "    iters = 0\n",
        "    cost_hist=[cost]\n",
        "    for i in range(iter):\n",
        "        temp_0 = theta_0 - alpha * (1 / m) * (theta_0 + theta_1 * matrix_x - matrix_y).sum()\n",
        "        temp_1 = theta_1 - alpha * (1 / m) * (matrix_x.transpose().dot(theta_0 + theta_1 * matrix_x - matrix_y)).sum()\n",
        "        theta_0 = temp_0\n",
        "        theta_1 = temp_1\n",
        "        cost = calculateCost(sat,gpa,m)\n",
        "        cost_hist.append(cost)\n",
        "        \n",
        "        iters += 1\n",
        "        if cost < eps:\n",
        "            print(f\"Iterations: {iters}\")\n",
        "            print(f\"Cost: {cost}\")\n",
        "            return cost_hist\n",
        "    print(f\"Cost: {cost}\")\n",
        "    print(f\"Iterations: {iters}\")"
      ],
      "execution_count": 0,
      "outputs": []
    },
    {
      "cell_type": "code",
      "metadata": {
        "id": "kF8j6ocfZAJW",
        "colab_type": "code",
        "colab": {
          "base_uri": "https://localhost:8080/",
          "height": 330
        },
        "outputId": "57bb004a-eee8-4c32-b51e-ebb10074c2b5"
      },
      "source": [
        "cost_hist = gradDescent(alpha,sat,gpa,10**8,0.03)\n",
        "if(cost_hist == None):\n",
        "    print(\"\\nBatch gradient descent did not converge\")\n",
        "else:\n",
        "    print(theta_0,theta_1)\n",
        "    plt.plot(cost_hist)"
      ],
      "execution_count": 54,
      "outputs": [
        {
          "output_type": "stream",
          "text": [
            "Iterations: 106\n",
            "Cost: 0.029377026671049734\n",
            "1.9978395486883478 0.0007671725954255421\n"
          ],
          "name": "stdout"
        },
        {
          "output_type": "display_data",
          "data": {
            "image/png": "[encoded data removed]",
            "text/plain": [
              "<Figure size 432x288 with 1 Axes>"
            ]
          },
          "metadata": {
            "tags": []
          }
        }
      ]
    },
    {
      "cell_type": "code",
      "metadata": {
        "id": "gvsAdGklZAJf",
        "colab_type": "code",
        "colab": {
          "base_uri": "https://localhost:8080/",
          "height": 283
        },
        "outputId": "d246825c-b116-400f-a9b9-a3963f5c4ba7"
      },
      "source": [
        "y = theta_0 + theta_1 * sat\n",
        "\n",
        "plt.plot(sat,y)\n",
        "plt.scatter(sat,gpa)"
      ],
      "execution_count": 55,
      "outputs": [
        {
          "output_type": "execute_result",
          "data": {
            "text/plain": [
              "<matplotlib.collections.PathCollection at 0x7f963c6e1320>"
            ]
          },
          "metadata": {
            "tags": []
          },
          "execution_count": 55
        },
        {
          "output_type": "display_data",
          "data": {
            "image/png": "[encoded data removed]",
            "text/plain": [
              "<Figure size 432x288 with 1 Axes>"
            ]
          },
          "metadata": {
            "tags": []
          }
        }
      ]
    },
    {
      "cell_type": "code",
      "metadata": {
        "id": "kQDfpvmJv16k",
        "colab_type": "code",
        "colab": {}
      },
      "source": [
        ""
      ],
      "execution_count": 0,
      "outputs": []
    }
  ]
}